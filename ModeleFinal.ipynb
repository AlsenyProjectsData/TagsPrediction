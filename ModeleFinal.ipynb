{
 "cells": [
  {
   "cell_type": "markdown",
   "id": "f6b65751",
   "metadata": {},
   "source": [
    "## MULTI_LABEL TEXT CLASSIFICATION POUR STACK OVERFLOW  PREDICTION DE TAG"
   ]
  },
  {
   "cell_type": "code",
   "execution_count": 52,
   "id": "6f799a45",
   "metadata": {},
   "outputs": [],
   "source": [
    "#!pip install -U scikit-learn\n",
    "#!pip install wordcloud\n",
    "#!pip install gensim"
   ]
  },
  {
   "cell_type": "code",
   "execution_count": 1,
   "id": "3130562a",
   "metadata": {},
   "outputs": [],
   "source": [
    "import pandas as pd\n",
    "import numpy as np\n",
    "import nltk\n",
    "from sklearn.feature_extraction.text import CountVectorizer, TfidfVectorizer\n",
    "from sklearn.preprocessing import MultiLabelBinarizer\n",
    "from sklearn.model_selection import train_test_split\n",
    "from sklearn.ensemble import RandomForestClassifier\n",
    "from sklearn.multioutput import MultiOutputClassifier\n",
    "from sklearn.linear_model import SGDClassifier, LogisticRegression\n",
    "from sklearn.svm import LinearSVC\n",
    "from sklearn.metrics import accuracy_score, classification_report\n",
    "from sklearn.pipeline import make_pipeline\n",
    "from sklearn.pipeline import Pipeline\n",
    "import joblib"
   ]
  },
  {
   "cell_type": "code",
   "execution_count": 2,
   "id": "63da2e03",
   "metadata": {},
   "outputs": [],
   "source": [
    "import streamlit"
   ]
  },
  {
   "cell_type": "code",
   "execution_count": 3,
   "id": "019bda47",
   "metadata": {},
   "outputs": [],
   "source": [
    "pd.set_option('display.max_rows', None)\n",
    "pd.set_option('display.max_columns',None)"
   ]
  },
  {
   "cell_type": "code",
   "execution_count": 4,
   "id": "e47d0d69",
   "metadata": {},
   "outputs": [],
   "source": [
    "import os"
   ]
  },
  {
   "cell_type": "code",
   "execution_count": 5,
   "id": "edcde86e",
   "metadata": {},
   "outputs": [],
   "source": [
    "#os.chdir(\"/home/sacko/Documents/Proje5_NLP\")"
   ]
  },
  {
   "cell_type": "code",
   "execution_count": 6,
   "id": "53640304",
   "metadata": {},
   "outputs": [],
   "source": [
    "#os.getcwd()"
   ]
  },
  {
   "cell_type": "code",
   "execution_count": 113,
   "id": "54a351a2",
   "metadata": {},
   "outputs": [
    {
     "data": {
      "text/html": [
       "<div>\n",
       "<style scoped>\n",
       "    .dataframe tbody tr th:only-of-type {\n",
       "        vertical-align: middle;\n",
       "    }\n",
       "\n",
       "    .dataframe tbody tr th {\n",
       "        vertical-align: top;\n",
       "    }\n",
       "\n",
       "    .dataframe thead th {\n",
       "        text-align: right;\n",
       "    }\n",
       "</style>\n",
       "<table border=\"1\" class=\"dataframe\">\n",
       "  <thead>\n",
       "    <tr style=\"text-align: right;\">\n",
       "      <th></th>\n",
       "      <th>Tags</th>\n",
       "      <th>Posts</th>\n",
       "      <th>PostsClean</th>\n",
       "    </tr>\n",
       "  </thead>\n",
       "  <tbody>\n",
       "    <tr>\n",
       "      <th>0</th>\n",
       "      <td>['c#']</td>\n",
       "      <td>How to convert Decimal to Double in C#? I want...</td>\n",
       "      <td>convert decimal double want assign decimal var...</td>\n",
       "    </tr>\n",
       "    <tr>\n",
       "      <th>1</th>\n",
       "      <td>['c#', '.net']</td>\n",
       "      <td>How do I calculate someone's age based on a Da...</td>\n",
       "      <td>calculate someone based datetime type birthday...</td>\n",
       "    </tr>\n",
       "    <tr>\n",
       "      <th>2</th>\n",
       "      <td>['c#']</td>\n",
       "      <td>Calculate relative time in C# Given a specific...</td>\n",
       "      <td>calculate relative time given specific value d...</td>\n",
       "    </tr>\n",
       "    <tr>\n",
       "      <th>3</th>\n",
       "      <td>['.net']</td>\n",
       "      <td>Difference between Math.Floor() and Math.Trunc...</td>\n",
       "      <td>difference mathfloor mathtruncate difference</td>\n",
       "    </tr>\n",
       "    <tr>\n",
       "      <th>4</th>\n",
       "      <td>['c#']</td>\n",
       "      <td>Filling a DataSet or a DataTable from a LINQ q...</td>\n",
       "      <td>filling dataset datatable linq query result ex...</td>\n",
       "    </tr>\n",
       "  </tbody>\n",
       "</table>\n",
       "</div>"
      ],
      "text/plain": [
       "             Tags                                              Posts  \\\n",
       "0          ['c#']  How to convert Decimal to Double in C#? I want...   \n",
       "1  ['c#', '.net']  How do I calculate someone's age based on a Da...   \n",
       "2          ['c#']  Calculate relative time in C# Given a specific...   \n",
       "3        ['.net']  Difference between Math.Floor() and Math.Trunc...   \n",
       "4          ['c#']  Filling a DataSet or a DataTable from a LINQ q...   \n",
       "\n",
       "                                          PostsClean  \n",
       "0  convert decimal double want assign decimal var...  \n",
       "1  calculate someone based datetime type birthday...  \n",
       "2  calculate relative time given specific value d...  \n",
       "3       difference mathfloor mathtruncate difference  \n",
       "4  filling dataset datatable linq query result ex...  "
      ]
     },
     "execution_count": 113,
     "metadata": {},
     "output_type": "execute_result"
    }
   ],
   "source": [
    "df_cleaned = pd.read_csv('/home/alseny/Documents/ModelFinal/QueryResultCleaneed.csv')\n",
    "df_cleaned.head()"
   ]
  },
  {
   "cell_type": "code",
   "execution_count": 114,
   "id": "b84ab05b",
   "metadata": {},
   "outputs": [],
   "source": [
    "df_clean = df_cleaned.copy()"
   ]
  },
  {
   "cell_type": "code",
   "execution_count": 115,
   "id": "cbcaaa65",
   "metadata": {},
   "outputs": [
    {
     "data": {
      "text/plain": [
       "\"['c#']\""
      ]
     },
     "execution_count": 115,
     "metadata": {},
     "output_type": "execute_result"
    }
   ],
   "source": [
    "df_clean.Tags[0]"
   ]
  },
  {
   "cell_type": "code",
   "execution_count": 116,
   "id": "6bf71f30",
   "metadata": {},
   "outputs": [],
   "source": [
    "import ast\n",
    "df_clean.Tags = df_clean.Tags.apply(lambda x : ast.literal_eval(x))"
   ]
  },
  {
   "cell_type": "code",
   "execution_count": 117,
   "id": "b54273f6",
   "metadata": {},
   "outputs": [
    {
     "data": {
      "text/plain": [
       "['c#']"
      ]
     },
     "execution_count": 117,
     "metadata": {},
     "output_type": "execute_result"
    }
   ],
   "source": [
    "df_clean.Tags[0]"
   ]
  },
  {
   "cell_type": "code",
   "execution_count": 135,
   "id": "d1b5228f",
   "metadata": {},
   "outputs": [
    {
     "name": "stdout",
     "output_type": "stream",
     "text": [
      "calculate someone based datetime type birthday given representing person birthday calculate year\n",
      "Tag: ['c#', '.net']\n"
     ]
    }
   ],
   "source": [
    "def print_plot(index):\n",
    "    example = df_clean[df_clean.index == index][['PostsClean', 'Tags']].values[0]\n",
    "    if len(example) > 0:\n",
    "        print(example[0])\n",
    "        print('Tag:', example[1])\n",
    "print_plot(1)"
   ]
  },
  {
   "cell_type": "code",
   "execution_count": 119,
   "id": "7de00cb8",
   "metadata": {},
   "outputs": [
    {
     "name": "stdout",
     "output_type": "stream",
     "text": [
      "check change server table monitor server database change table without using trigger modifying structure database preferred programming environment c\n",
      "id like able support server 2000 newer application bolton data visualization another company product customer base thousand dont want requirement modify thirdparty vendor table every installation\n",
      "by change table mean change table data change table structure\n",
      "ultimately would like change trigger event application instead check change interval\n",
      "\n",
      "the best course action given requirement trigger schema modification server 2000 2005 seems function tsql plan implement this\n",
      "every second following query\n",
      " \n",
      "and compare stored value value changed table using query\n",
      " \n",
      "and compare returned checksum stored value\n",
      "Tag: ['sql', 'sql-server']\n"
     ]
    }
   ],
   "source": [
    "print_plot(6)"
   ]
  },
  {
   "cell_type": "code",
   "execution_count": 120,
   "id": "8dab654a",
   "metadata": {},
   "outputs": [],
   "source": [
    "df_clean.drop([\"Posts\"], axis=1, inplace=True)## Suppression de la variable \"Posts\""
   ]
  },
  {
   "cell_type": "code",
   "execution_count": 121,
   "id": "5f7cc2ee",
   "metadata": {},
   "outputs": [],
   "source": [
    "df_clean = df_clean[0:500]"
   ]
  },
  {
   "cell_type": "code",
   "execution_count": 122,
   "id": "0c572841",
   "metadata": {},
   "outputs": [
    {
     "data": {
      "text/plain": [
       "(500, 2)"
      ]
     },
     "execution_count": 122,
     "metadata": {},
     "output_type": "execute_result"
    }
   ],
   "source": [
    "df_clean.shape"
   ]
  },
  {
   "cell_type": "code",
   "execution_count": 123,
   "id": "a817e3dd",
   "metadata": {},
   "outputs": [
    {
     "data": {
      "text/html": [
       "<div>\n",
       "<style scoped>\n",
       "    .dataframe tbody tr th:only-of-type {\n",
       "        vertical-align: middle;\n",
       "    }\n",
       "\n",
       "    .dataframe tbody tr th {\n",
       "        vertical-align: top;\n",
       "    }\n",
       "\n",
       "    .dataframe thead th {\n",
       "        text-align: right;\n",
       "    }\n",
       "</style>\n",
       "<table border=\"1\" class=\"dataframe\">\n",
       "  <thead>\n",
       "    <tr style=\"text-align: right;\">\n",
       "      <th></th>\n",
       "      <th>Tags</th>\n",
       "      <th>PostsClean</th>\n",
       "    </tr>\n",
       "  </thead>\n",
       "  <tbody>\n",
       "    <tr>\n",
       "      <th>0</th>\n",
       "      <td>[c#]</td>\n",
       "      <td>convert decimal double want assign decimal var...</td>\n",
       "    </tr>\n",
       "    <tr>\n",
       "      <th>1</th>\n",
       "      <td>[c#, .net]</td>\n",
       "      <td>calculate someone based datetime type birthday...</td>\n",
       "    </tr>\n",
       "    <tr>\n",
       "      <th>2</th>\n",
       "      <td>[c#]</td>\n",
       "      <td>calculate relative time given specific value d...</td>\n",
       "    </tr>\n",
       "    <tr>\n",
       "      <th>3</th>\n",
       "      <td>[.net]</td>\n",
       "      <td>difference mathfloor mathtruncate difference</td>\n",
       "    </tr>\n",
       "    <tr>\n",
       "      <th>4</th>\n",
       "      <td>[c#]</td>\n",
       "      <td>filling dataset datatable linq query result ex...</td>\n",
       "    </tr>\n",
       "  </tbody>\n",
       "</table>\n",
       "</div>"
      ],
      "text/plain": [
       "         Tags                                         PostsClean\n",
       "0        [c#]  convert decimal double want assign decimal var...\n",
       "1  [c#, .net]  calculate someone based datetime type birthday...\n",
       "2        [c#]  calculate relative time given specific value d...\n",
       "3      [.net]       difference mathfloor mathtruncate difference\n",
       "4        [c#]  filling dataset datatable linq query result ex..."
      ]
     },
     "execution_count": 123,
     "metadata": {},
     "output_type": "execute_result"
    }
   ],
   "source": [
    "df_clean.head()"
   ]
  },
  {
   "cell_type": "markdown",
   "id": "e2c642bc",
   "metadata": {},
   "source": [
    "## TF-IDF & SGDClassifier"
   ]
  },
  {
   "cell_type": "code",
   "execution_count": 124,
   "id": "84c2aa7a",
   "metadata": {},
   "outputs": [],
   "source": [
    "#conda deactivate\n",
    "#!pip install tensorflow"
   ]
  },
  {
   "cell_type": "code",
   "execution_count": 125,
   "id": "5c4e0bc8",
   "metadata": {},
   "outputs": [],
   "source": [
    "X = df_clean['PostsClean']\n",
    "\n",
    "y = df_clean['Tags']\n",
    "\n",
    "multilabel_binarizer = MultiLabelBinarizer()\n",
    "\n",
    "y_target = multilabel_binarizer.fit_transform(y)\n",
    "\n",
    "# Split into Training and Test sets\n",
    "X_train, X_test, y_train, y_test = train_test_split(X, y_target, test_size=0.3, random_state=42)"
   ]
  },
  {
   "cell_type": "code",
   "execution_count": 126,
   "id": "2928015c",
   "metadata": {},
   "outputs": [],
   "source": [
    "#y_test = np.reshape(y_test,(-1,1))\n",
    "\n",
    "#y_train = np.reshape(y_train,(-1,1))"
   ]
  },
  {
   "cell_type": "code",
   "execution_count": 127,
   "id": "891aac8f",
   "metadata": {},
   "outputs": [
    {
     "data": {
      "text/plain": [
       "(350, 10)"
      ]
     },
     "execution_count": 127,
     "metadata": {},
     "output_type": "execute_result"
    }
   ],
   "source": [
    "y_train.shape"
   ]
  },
  {
   "cell_type": "code",
   "execution_count": 128,
   "id": "e7e1340f",
   "metadata": {},
   "outputs": [],
   "source": [
    "# Initizalize the vectorizer with max nr words and ngrams (1: single words, 2: two words in a row)\n",
    "vectorizer_tfidf = TfidfVectorizer(analyzer =\"word\", max_features=5000, ngram_range=(1,2))"
   ]
  },
  {
   "cell_type": "markdown",
   "id": "2d22fab4",
   "metadata": {},
   "source": [
    "## TF-IDF & SGDClassifier"
   ]
  },
  {
   "cell_type": "code",
   "execution_count": null,
   "id": "8f663ee6",
   "metadata": {},
   "outputs": [],
   "source": []
  },
  {
   "cell_type": "code",
   "execution_count": 129,
   "id": "e62a37fa",
   "metadata": {},
   "outputs": [],
   "source": [
    "rf_classifier_tf = MultiOutputClassifier(SGDClassifier())"
   ]
  },
  {
   "cell_type": "code",
   "execution_count": 130,
   "id": "7eb023e5",
   "metadata": {},
   "outputs": [
    {
     "data": {
      "text/html": [
       "<style>#sk-container-id-4 {color: black;}#sk-container-id-4 pre{padding: 0;}#sk-container-id-4 div.sk-toggleable {background-color: white;}#sk-container-id-4 label.sk-toggleable__label {cursor: pointer;display: block;width: 100%;margin-bottom: 0;padding: 0.3em;box-sizing: border-box;text-align: center;}#sk-container-id-4 label.sk-toggleable__label-arrow:before {content: \"▸\";float: left;margin-right: 0.25em;color: #696969;}#sk-container-id-4 label.sk-toggleable__label-arrow:hover:before {color: black;}#sk-container-id-4 div.sk-estimator:hover label.sk-toggleable__label-arrow:before {color: black;}#sk-container-id-4 div.sk-toggleable__content {max-height: 0;max-width: 0;overflow: hidden;text-align: left;background-color: #f0f8ff;}#sk-container-id-4 div.sk-toggleable__content pre {margin: 0.2em;color: black;border-radius: 0.25em;background-color: #f0f8ff;}#sk-container-id-4 input.sk-toggleable__control:checked~div.sk-toggleable__content {max-height: 200px;max-width: 100%;overflow: auto;}#sk-container-id-4 input.sk-toggleable__control:checked~label.sk-toggleable__label-arrow:before {content: \"▾\";}#sk-container-id-4 div.sk-estimator input.sk-toggleable__control:checked~label.sk-toggleable__label {background-color: #d4ebff;}#sk-container-id-4 div.sk-label input.sk-toggleable__control:checked~label.sk-toggleable__label {background-color: #d4ebff;}#sk-container-id-4 input.sk-hidden--visually {border: 0;clip: rect(1px 1px 1px 1px);clip: rect(1px, 1px, 1px, 1px);height: 1px;margin: -1px;overflow: hidden;padding: 0;position: absolute;width: 1px;}#sk-container-id-4 div.sk-estimator {font-family: monospace;background-color: #f0f8ff;border: 1px dotted black;border-radius: 0.25em;box-sizing: border-box;margin-bottom: 0.5em;}#sk-container-id-4 div.sk-estimator:hover {background-color: #d4ebff;}#sk-container-id-4 div.sk-parallel-item::after {content: \"\";width: 100%;border-bottom: 1px solid gray;flex-grow: 1;}#sk-container-id-4 div.sk-label:hover label.sk-toggleable__label {background-color: #d4ebff;}#sk-container-id-4 div.sk-serial::before {content: \"\";position: absolute;border-left: 1px solid gray;box-sizing: border-box;top: 0;bottom: 0;left: 50%;z-index: 0;}#sk-container-id-4 div.sk-serial {display: flex;flex-direction: column;align-items: center;background-color: white;padding-right: 0.2em;padding-left: 0.2em;position: relative;}#sk-container-id-4 div.sk-item {position: relative;z-index: 1;}#sk-container-id-4 div.sk-parallel {display: flex;align-items: stretch;justify-content: center;background-color: white;position: relative;}#sk-container-id-4 div.sk-item::before, #sk-container-id-4 div.sk-parallel-item::before {content: \"\";position: absolute;border-left: 1px solid gray;box-sizing: border-box;top: 0;bottom: 0;left: 50%;z-index: -1;}#sk-container-id-4 div.sk-parallel-item {display: flex;flex-direction: column;z-index: 1;position: relative;background-color: white;}#sk-container-id-4 div.sk-parallel-item:first-child::after {align-self: flex-end;width: 50%;}#sk-container-id-4 div.sk-parallel-item:last-child::after {align-self: flex-start;width: 50%;}#sk-container-id-4 div.sk-parallel-item:only-child::after {width: 0;}#sk-container-id-4 div.sk-dashed-wrapped {border: 1px dashed gray;margin: 0 0.4em 0.5em 0.4em;box-sizing: border-box;padding-bottom: 0.4em;background-color: white;}#sk-container-id-4 div.sk-label label {font-family: monospace;font-weight: bold;display: inline-block;line-height: 1.2em;}#sk-container-id-4 div.sk-label-container {text-align: center;}#sk-container-id-4 div.sk-container {/* jupyter's `normalize.less` sets `[hidden] { display: none; }` but bootstrap.min.css set `[hidden] { display: none !important; }` so we also need the `!important` here to be able to override the default hidden behavior on the sphinx rendered scikit-learn.org. See: https://github.com/scikit-learn/scikit-learn/issues/21755 */display: inline-block !important;position: relative;}#sk-container-id-4 div.sk-text-repr-fallback {display: none;}</style><div id=\"sk-container-id-4\" class=\"sk-top-container\"><div class=\"sk-text-repr-fallback\"><pre>Pipeline(steps=[(&#x27;vectorizer&#x27;,\n",
       "                 TfidfVectorizer(max_features=5000, ngram_range=(1, 2))),\n",
       "                (&#x27;classifier&#x27;,\n",
       "                 MultiOutputClassifier(estimator=SGDClassifier()))])</pre><b>In a Jupyter environment, please rerun this cell to show the HTML representation or trust the notebook. <br />On GitHub, the HTML representation is unable to render, please try loading this page with nbviewer.org.</b></div><div class=\"sk-container\" hidden><div class=\"sk-item sk-dashed-wrapped\"><div class=\"sk-label-container\"><div class=\"sk-label sk-toggleable\"><input class=\"sk-toggleable__control sk-hidden--visually\" id=\"sk-estimator-id-16\" type=\"checkbox\" ><label for=\"sk-estimator-id-16\" class=\"sk-toggleable__label sk-toggleable__label-arrow\">Pipeline</label><div class=\"sk-toggleable__content\"><pre>Pipeline(steps=[(&#x27;vectorizer&#x27;,\n",
       "                 TfidfVectorizer(max_features=5000, ngram_range=(1, 2))),\n",
       "                (&#x27;classifier&#x27;,\n",
       "                 MultiOutputClassifier(estimator=SGDClassifier()))])</pre></div></div></div><div class=\"sk-serial\"><div class=\"sk-item\"><div class=\"sk-estimator sk-toggleable\"><input class=\"sk-toggleable__control sk-hidden--visually\" id=\"sk-estimator-id-17\" type=\"checkbox\" ><label for=\"sk-estimator-id-17\" class=\"sk-toggleable__label sk-toggleable__label-arrow\">TfidfVectorizer</label><div class=\"sk-toggleable__content\"><pre>TfidfVectorizer(max_features=5000, ngram_range=(1, 2))</pre></div></div></div><div class=\"sk-item sk-dashed-wrapped\"><div class=\"sk-label-container\"><div class=\"sk-label sk-toggleable\"><input class=\"sk-toggleable__control sk-hidden--visually\" id=\"sk-estimator-id-18\" type=\"checkbox\" ><label for=\"sk-estimator-id-18\" class=\"sk-toggleable__label sk-toggleable__label-arrow\">classifier: MultiOutputClassifier</label><div class=\"sk-toggleable__content\"><pre>MultiOutputClassifier(estimator=SGDClassifier())</pre></div></div></div><div class=\"sk-parallel\"><div class=\"sk-parallel-item\"><div class=\"sk-item\"><div class=\"sk-label-container\"><div class=\"sk-label sk-toggleable\"><input class=\"sk-toggleable__control sk-hidden--visually\" id=\"sk-estimator-id-19\" type=\"checkbox\" ><label for=\"sk-estimator-id-19\" class=\"sk-toggleable__label sk-toggleable__label-arrow\">estimator: SGDClassifier</label><div class=\"sk-toggleable__content\"><pre>SGDClassifier()</pre></div></div></div><div class=\"sk-serial\"><div class=\"sk-item\"><div class=\"sk-estimator sk-toggleable\"><input class=\"sk-toggleable__control sk-hidden--visually\" id=\"sk-estimator-id-20\" type=\"checkbox\" ><label for=\"sk-estimator-id-20\" class=\"sk-toggleable__label sk-toggleable__label-arrow\">SGDClassifier</label><div class=\"sk-toggleable__content\"><pre>SGDClassifier()</pre></div></div></div></div></div></div></div></div></div></div></div></div>"
      ],
      "text/plain": [
       "Pipeline(steps=[('vectorizer',\n",
       "                 TfidfVectorizer(max_features=5000, ngram_range=(1, 2))),\n",
       "                ('classifier',\n",
       "                 MultiOutputClassifier(estimator=SGDClassifier()))])"
      ]
     },
     "execution_count": 130,
     "metadata": {},
     "output_type": "execute_result"
    }
   ],
   "source": [
    "model_rf = Pipeline([(\"vectorizer\", vectorizer_tfidf), (\"classifier\", rf_classifier_tf)])\n",
    "\n",
    "model_rf.fit(X_train, y_train)"
   ]
  },
  {
   "cell_type": "code",
   "execution_count": null,
   "id": "cddfb6fe",
   "metadata": {},
   "outputs": [],
   "source": []
  },
  {
   "cell_type": "code",
   "execution_count": 131,
   "id": "21695231",
   "metadata": {},
   "outputs": [
    {
     "name": "stdout",
     "output_type": "stream",
     "text": [
      "Accuracy Training data: 100.0%\n",
      "Accuracy Test data: 22.0%\n",
      "              precision    recall  f1-score   support\n",
      "\n",
      "           0       0.57      0.19      0.29        42\n",
      "           1       0.88      0.41      0.56        17\n",
      "           2       0.58      0.30      0.40        46\n",
      "           3       1.00      0.11      0.20         9\n",
      "           4       1.00      0.50      0.67        12\n",
      "           5       1.00      0.75      0.86         8\n",
      "           6       0.17      0.06      0.09        16\n",
      "           7       1.00      0.57      0.73         7\n",
      "           8       0.00      0.00      0.00        16\n",
      "           9       0.67      0.56      0.61        18\n",
      "\n",
      "   micro avg       0.68      0.30      0.41       191\n",
      "   macro avg       0.69      0.35      0.44       191\n",
      "weighted avg       0.61      0.30      0.39       191\n",
      " samples avg       0.32      0.32      0.31       191\n",
      "\n"
     ]
    },
    {
     "name": "stderr",
     "output_type": "stream",
     "text": [
      "/home/alseny/anaconda3/lib/python3.11/site-packages/sklearn/metrics/_classification.py:1469: UndefinedMetricWarning: Precision and F-score are ill-defined and being set to 0.0 in labels with no predicted samples. Use `zero_division` parameter to control this behavior.\n",
      "  _warn_prf(average, modifier, msg_start, len(result))\n",
      "/home/alseny/anaconda3/lib/python3.11/site-packages/sklearn/metrics/_classification.py:1469: UndefinedMetricWarning: Precision and F-score are ill-defined and being set to 0.0 in samples with no predicted labels. Use `zero_division` parameter to control this behavior.\n",
      "  _warn_prf(average, modifier, msg_start, len(result))\n"
     ]
    }
   ],
   "source": [
    "predicted_train_tfidf = model_rf.predict(X_train)\n",
    "\n",
    "accuracy_train_tfidf = accuracy_score(y_train, predicted_train_tfidf)\n",
    "\n",
    "print('Accuracy Training data: {:.1%}'.format(accuracy_train_tfidf))\n",
    "\n",
    "predicted_test_tfidf = model_rf.predict(X_test)\n",
    "\n",
    "accuracy_test_tfidf = accuracy_score(y_test, predicted_test_tfidf)\n",
    "\n",
    "print('Accuracy Test data: {:.1%}'.format(accuracy_test_tfidf))\n",
    "\n",
    "print(classification_report(y_test, predicted_test_tfidf))"
   ]
  },
  {
   "cell_type": "code",
   "execution_count": null,
   "id": "ec05fc6b",
   "metadata": {},
   "outputs": [],
   "source": []
  },
  {
   "cell_type": "code",
   "execution_count": 137,
   "id": "ba2a1704",
   "metadata": {},
   "outputs": [],
   "source": [
    "ex=\"calculate someone based datetime type birthday given representing person birthday calculate year\""
   ]
  },
  {
   "cell_type": "code",
   "execution_count": 148,
   "id": "d2b7dbf2",
   "metadata": {},
   "outputs": [
    {
     "data": {
      "text/plain": [
       "[('.net', 'c#')]"
      ]
     },
     "execution_count": 148,
     "metadata": {},
     "output_type": "execute_result"
    }
   ],
   "source": [
    "#Exemple de prediction sur un texte\n",
    "multilabel_binarizer.inverse_transform(model_rf.predict([ex]))"
   ]
  },
  {
   "cell_type": "markdown",
   "id": "6b826ad0",
   "metadata": {},
   "source": [
    "## Sauvegarde du modèle"
   ]
  },
  {
   "cell_type": "code",
   "execution_count": 142,
   "id": "303f0fe2",
   "metadata": {},
   "outputs": [],
   "source": [
    "import pickle as pkl"
   ]
  },
  {
   "cell_type": "code",
   "execution_count": 143,
   "id": "a217e914",
   "metadata": {},
   "outputs": [],
   "source": [
    "# saving the model \n",
    "pipline_file = open(\"TagsPredict.pkl\", \"wb\") \n",
    "joblib.dump(model_rf, pipline_file) \n",
    "pipline_file.close()"
   ]
  },
  {
   "cell_type": "code",
   "execution_count": null,
   "id": "27906304",
   "metadata": {},
   "outputs": [],
   "source": []
  }
 ],
 "metadata": {
  "kernelspec": {
   "display_name": "Python 3 (ipykernel)",
   "language": "python",
   "name": "python3"
  },
  "language_info": {
   "codemirror_mode": {
    "name": "ipython",
    "version": 3
   },
   "file_extension": ".py",
   "mimetype": "text/x-python",
   "name": "python",
   "nbconvert_exporter": "python",
   "pygments_lexer": "ipython3",
   "version": "3.11.5"
  }
 },
 "nbformat": 4,
 "nbformat_minor": 5
}
