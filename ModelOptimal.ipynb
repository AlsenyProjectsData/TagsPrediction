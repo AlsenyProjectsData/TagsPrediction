{
 "cells": [
  {
   "cell_type": "markdown",
   "id": "f6b65751",
   "metadata": {},
   "source": [
    "# Projet 5: Catégorisation automatique des questions"
   ]
  },
  {
   "cell_type": "markdown",
   "id": "d7747fc3",
   "metadata": {},
   "source": [
    "## Modèle final"
   ]
  },
  {
   "cell_type": "code",
   "execution_count": null,
   "id": "c8ba60ac",
   "metadata": {},
   "outputs": [],
   "source": [
    "import pandas as pd\n",
    "import numpy as np\n",
    "import nltk\n",
    "from sklearn.feature_extraction.text import CountVectorizer, TfidfVectorizer\n",
    "from sklearn.preprocessing import MultiLabelBinarizer\n",
    "from sklearn.model_selection import train_test_split\n",
    "from sklearn.ensemble import RandomForestClassifier\n",
    "from sklearn.multioutput import MultiOutputClassifier\n",
    "from sklearn.linear_model import SGDClassifier, LogisticRegression\n",
    "from sklearn.svm import LinearSVC\n",
    "from sklearn.metrics import accuracy_score, classification_report\n",
    "from sklearn.pipeline import make_pipeline\n",
    "from sklearn.pipeline import Pipeline\n",
    "import joblib"
   ]
  },
  {
   "cell_type": "code",
   "execution_count": 21,
   "id": "019bda47",
   "metadata": {},
   "outputs": [],
   "source": [
    "pd.set_option('display.max_rows', None)\n",
    "pd.set_option('display.max_columns',None)"
   ]
  },
  {
   "cell_type": "code",
   "execution_count": 22,
   "id": "54a351a2",
   "metadata": {},
   "outputs": [
    {
     "data": {
      "text/html": [
       "<div>\n",
       "<style scoped>\n",
       "    .dataframe tbody tr th:only-of-type {\n",
       "        vertical-align: middle;\n",
       "    }\n",
       "\n",
       "    .dataframe tbody tr th {\n",
       "        vertical-align: top;\n",
       "    }\n",
       "\n",
       "    .dataframe thead th {\n",
       "        text-align: right;\n",
       "    }\n",
       "</style>\n",
       "<table border=\"1\" class=\"dataframe\">\n",
       "  <thead>\n",
       "    <tr style=\"text-align: right;\">\n",
       "      <th></th>\n",
       "      <th>Tags</th>\n",
       "      <th>Posts</th>\n",
       "      <th>PostsClean</th>\n",
       "    </tr>\n",
       "  </thead>\n",
       "  <tbody>\n",
       "    <tr>\n",
       "      <th>0</th>\n",
       "      <td>['c#']</td>\n",
       "      <td>How to convert Decimal to Double in C#? I want...</td>\n",
       "      <td>convert decimal double want assign decimal var...</td>\n",
       "    </tr>\n",
       "    <tr>\n",
       "      <th>1</th>\n",
       "      <td>['c#', '.net']</td>\n",
       "      <td>How do I calculate someone's age based on a Da...</td>\n",
       "      <td>calculate someone based datetime type birthday...</td>\n",
       "    </tr>\n",
       "    <tr>\n",
       "      <th>2</th>\n",
       "      <td>['c#']</td>\n",
       "      <td>Calculate relative time in C# Given a specific...</td>\n",
       "      <td>calculate relative time given specific value d...</td>\n",
       "    </tr>\n",
       "    <tr>\n",
       "      <th>3</th>\n",
       "      <td>['.net']</td>\n",
       "      <td>Difference between Math.Floor() and Math.Trunc...</td>\n",
       "      <td>difference mathfloor mathtruncate difference</td>\n",
       "    </tr>\n",
       "    <tr>\n",
       "      <th>4</th>\n",
       "      <td>['c#']</td>\n",
       "      <td>Filling a DataSet or a DataTable from a LINQ q...</td>\n",
       "      <td>filling dataset datatable linq query result ex...</td>\n",
       "    </tr>\n",
       "  </tbody>\n",
       "</table>\n",
       "</div>"
      ],
      "text/plain": [
       "             Tags                                              Posts  \\\n",
       "0          ['c#']  How to convert Decimal to Double in C#? I want...   \n",
       "1  ['c#', '.net']  How do I calculate someone's age based on a Da...   \n",
       "2          ['c#']  Calculate relative time in C# Given a specific...   \n",
       "3        ['.net']  Difference between Math.Floor() and Math.Trunc...   \n",
       "4          ['c#']  Filling a DataSet or a DataTable from a LINQ q...   \n",
       "\n",
       "                                          PostsClean  \n",
       "0  convert decimal double want assign decimal var...  \n",
       "1  calculate someone based datetime type birthday...  \n",
       "2  calculate relative time given specific value d...  \n",
       "3       difference mathfloor mathtruncate difference  \n",
       "4  filling dataset datatable linq query result ex...  "
      ]
     },
     "execution_count": 22,
     "metadata": {},
     "output_type": "execute_result"
    }
   ],
   "source": [
    "df_cleaned = pd.read_csv(\"/home/alseny/Documents/Proje5_NLP/Donnees/QueryResultCleaneed.csv\")\n",
    "df_cleaned.head()"
   ]
  },
  {
   "cell_type": "code",
   "execution_count": 23,
   "id": "b84ab05b",
   "metadata": {},
   "outputs": [],
   "source": [
    "df_clean = df_cleaned.copy()"
   ]
  },
  {
   "cell_type": "code",
   "execution_count": 24,
   "id": "cbcaaa65",
   "metadata": {},
   "outputs": [
    {
     "data": {
      "text/plain": [
       "\"['c#']\""
      ]
     },
     "execution_count": 24,
     "metadata": {},
     "output_type": "execute_result"
    }
   ],
   "source": [
    "df_clean.Tags[0]"
   ]
  },
  {
   "cell_type": "code",
   "execution_count": 25,
   "id": "6bf71f30",
   "metadata": {},
   "outputs": [],
   "source": [
    "import ast\n",
    "df_clean.Tags = df_clean.Tags.apply(lambda x : ast.literal_eval(x))"
   ]
  },
  {
   "cell_type": "markdown",
   "id": "c56242eb",
   "metadata": {},
   "source": [
    "## Quelques paires de publications"
   ]
  },
  {
   "cell_type": "code",
   "execution_count": 26,
   "id": "d1b5228f",
   "metadata": {},
   "outputs": [
    {
     "name": "stdout",
     "output_type": "stream",
     "text": [
      "distinct ordered list name datatable using linq column want generate collection unique name ordered alphabetically following query ignores order clause\n",
      " \n",
      "why enforced\n",
      "Tag: ['c#']\n"
     ]
    }
   ],
   "source": [
    "def print_plot(index):\n",
    "    example = df_clean[df_clean.index == index][['PostsClean', 'Tags']].values[0]\n",
    "    if len(example) > 0:\n",
    "        print(example[0])\n",
    "        print('Tag:', example[1])\n",
    "print_plot(9)"
   ]
  },
  {
   "cell_type": "code",
   "execution_count": 27,
   "id": "7de00cb8",
   "metadata": {},
   "outputs": [
    {
     "name": "stdout",
     "output_type": "stream",
     "text": [
      "best allow plugins application starting application time around want create something people extend using plugin interface \n",
      "how writing hook code plugins attach specific event\n",
      "Tag: ['php']\n"
     ]
    }
   ],
   "source": [
    "print_plot(8)"
   ]
  },
  {
   "cell_type": "code",
   "execution_count": 28,
   "id": "8dab654a",
   "metadata": {},
   "outputs": [],
   "source": [
    "df_clean.drop([\"Posts\"], axis=1, inplace=True)## Suppression de la variable \"Posts\""
   ]
  },
  {
   "cell_type": "code",
   "execution_count": 29,
   "id": "5f7cc2ee",
   "metadata": {},
   "outputs": [],
   "source": [
    "df_clean = df_clean[0:600]"
   ]
  },
  {
   "cell_type": "code",
   "execution_count": 30,
   "id": "0c572841",
   "metadata": {},
   "outputs": [
    {
     "data": {
      "text/plain": [
       "(600, 2)"
      ]
     },
     "execution_count": 30,
     "metadata": {},
     "output_type": "execute_result"
    }
   ],
   "source": [
    "df_clean.shape"
   ]
  },
  {
   "cell_type": "code",
   "execution_count": 31,
   "id": "a817e3dd",
   "metadata": {},
   "outputs": [
    {
     "data": {
      "text/html": [
       "<div>\n",
       "<style scoped>\n",
       "    .dataframe tbody tr th:only-of-type {\n",
       "        vertical-align: middle;\n",
       "    }\n",
       "\n",
       "    .dataframe tbody tr th {\n",
       "        vertical-align: top;\n",
       "    }\n",
       "\n",
       "    .dataframe thead th {\n",
       "        text-align: right;\n",
       "    }\n",
       "</style>\n",
       "<table border=\"1\" class=\"dataframe\">\n",
       "  <thead>\n",
       "    <tr style=\"text-align: right;\">\n",
       "      <th></th>\n",
       "      <th>Tags</th>\n",
       "      <th>PostsClean</th>\n",
       "    </tr>\n",
       "  </thead>\n",
       "  <tbody>\n",
       "    <tr>\n",
       "      <th>0</th>\n",
       "      <td>[c#]</td>\n",
       "      <td>convert decimal double want assign decimal var...</td>\n",
       "    </tr>\n",
       "    <tr>\n",
       "      <th>1</th>\n",
       "      <td>[c#, .net]</td>\n",
       "      <td>calculate someone based datetime type birthday...</td>\n",
       "    </tr>\n",
       "    <tr>\n",
       "      <th>2</th>\n",
       "      <td>[c#]</td>\n",
       "      <td>calculate relative time given specific value d...</td>\n",
       "    </tr>\n",
       "    <tr>\n",
       "      <th>3</th>\n",
       "      <td>[.net]</td>\n",
       "      <td>difference mathfloor mathtruncate difference</td>\n",
       "    </tr>\n",
       "    <tr>\n",
       "      <th>4</th>\n",
       "      <td>[c#]</td>\n",
       "      <td>filling dataset datatable linq query result ex...</td>\n",
       "    </tr>\n",
       "  </tbody>\n",
       "</table>\n",
       "</div>"
      ],
      "text/plain": [
       "         Tags                                         PostsClean\n",
       "0        [c#]  convert decimal double want assign decimal var...\n",
       "1  [c#, .net]  calculate someone based datetime type birthday...\n",
       "2        [c#]  calculate relative time given specific value d...\n",
       "3      [.net]       difference mathfloor mathtruncate difference\n",
       "4        [c#]  filling dataset datatable linq query result ex..."
      ]
     },
     "execution_count": 31,
     "metadata": {},
     "output_type": "execute_result"
    }
   ],
   "source": [
    "df_clean.head()"
   ]
  },
  {
   "cell_type": "markdown",
   "id": "e2c642bc",
   "metadata": {},
   "source": [
    "## TF-IDF"
   ]
  },
  {
   "cell_type": "code",
   "execution_count": 32,
   "id": "84c2aa7a",
   "metadata": {},
   "outputs": [],
   "source": [
    "#conda deactivate\n",
    "#!pip install tensorflow"
   ]
  },
  {
   "cell_type": "code",
   "execution_count": 33,
   "id": "5c4e0bc8",
   "metadata": {},
   "outputs": [],
   "source": [
    "X = df_clean['PostsClean']\n",
    "\n",
    "y = df_clean['Tags']\n",
    "\n",
    "multilabel_binarizer = MultiLabelBinarizer()\n",
    "\n",
    "y_target = multilabel_binarizer.fit_transform(y)\n",
    "\n",
    "# Split into Training and Test sets\n",
    "X_train, X_test, y_train, y_test = train_test_split(X, y_target, test_size=0.3, random_state=42)"
   ]
  },
  {
   "cell_type": "code",
   "execution_count": 34,
   "id": "891aac8f",
   "metadata": {},
   "outputs": [
    {
     "data": {
      "text/plain": [
       "(420, 10)"
      ]
     },
     "execution_count": 34,
     "metadata": {},
     "output_type": "execute_result"
    }
   ],
   "source": [
    "y_train.shape"
   ]
  },
  {
   "cell_type": "code",
   "execution_count": 35,
   "id": "e7e1340f",
   "metadata": {},
   "outputs": [],
   "source": [
    "# Initizalize the vectorizer with max nr words and ngrams (1: single words, 2: two words in a row)\n",
    "vectorizer_tfidf = TfidfVectorizer(max_features=500, ngram_range=(1,2))"
   ]
  },
  {
   "cell_type": "markdown",
   "id": "2d22fab4",
   "metadata": {},
   "source": [
    "## SGDClassifier"
   ]
  },
  {
   "cell_type": "code",
   "execution_count": 37,
   "id": "ede5de33",
   "metadata": {},
   "outputs": [
    {
     "data": {
      "text/plain": [
       "Pipeline(steps=[('vectorizer',\n",
       "                 TfidfVectorizer(max_features=500, ngram_range=(1, 2))),\n",
       "                ('classifier',\n",
       "                 MultiOutputClassifier(estimator=SGDClassifier()))])"
      ]
     },
     "execution_count": 37,
     "metadata": {},
     "output_type": "execute_result"
    }
   ],
   "source": [
    "#Instanciation du modèle\n",
    "sgd_classifier = MultiOutputClassifier(SGDClassifier())\n",
    "\n",
    "model_sgd = Pipeline([(\"vectorizer\", vectorizer_tfidf), (\"classifier\", sgd_classifier)])\n",
    "\n",
    "model_sgd.fit(X_train, y_train)"
   ]
  },
  {
   "cell_type": "code",
   "execution_count": 38,
   "id": "eb99fe4b",
   "metadata": {},
   "outputs": [
    {
     "name": "stdout",
     "output_type": "stream",
     "text": [
      "Accuracy Training data: 99.8%\n",
      "Accuracy Test data: 31.7%\n",
      "              precision    recall  f1-score   support\n",
      "\n",
      "        .net       0.33      0.41      0.36        39\n",
      "     asp.net       0.60      0.86      0.71        14\n",
      "          c#       0.49      0.43      0.46        49\n",
      "         c++       0.30      0.12      0.17        25\n",
      "        java       0.65      0.76      0.70        17\n",
      "  javascript       0.80      0.67      0.73        12\n",
      "         php       0.45      0.29      0.36        17\n",
      "      python       0.88      0.78      0.82         9\n",
      "         sql       0.64      0.41      0.50        17\n",
      "  sql-server       0.78      0.75      0.77        24\n",
      "\n",
      "   micro avg       0.54      0.49      0.51       223\n",
      "   macro avg       0.59      0.55      0.56       223\n",
      "weighted avg       0.53      0.49      0.50       223\n",
      " samples avg       0.48      0.52      0.48       223\n",
      "\n"
     ]
    },
    {
     "name": "stderr",
     "output_type": "stream",
     "text": [
      "/home/alseny/anaconda3/lib/python3.9/site-packages/sklearn/metrics/_classification.py:1318: UndefinedMetricWarning: Precision and F-score are ill-defined and being set to 0.0 in samples with no predicted labels. Use `zero_division` parameter to control this behavior.\n",
      "  _warn_prf(average, modifier, msg_start, len(result))\n"
     ]
    }
   ],
   "source": [
    "predicted_train_tfidf = model_sgd.predict(X_train)\n",
    "accuracy_train_tfidf = accuracy_score(y_train, predicted_train_tfidf)\n",
    "print('Accuracy Training data: {:.1%}'.format(accuracy_train_tfidf))\n",
    "\n",
    "predicted_test_tfidf = model_sgd.predict(X_test)\n",
    "accuracy_test_tfidf = accuracy_score(y_test, predicted_test_tfidf)\n",
    "print('Accuracy Test data: {:.1%}'.format(accuracy_test_tfidf))\n",
    "#print('Training time: {:.1f}s'.format(training_time_tfidf))\n",
    "print(classification_report(y_test, predicted_test_tfidf, target_names= ['.net','asp.net','c#','c++','java', 'javascript','php','python','sql','sql-server']))"
   ]
  },
  {
   "cell_type": "markdown",
   "id": "0bcaef17",
   "metadata": {},
   "source": [
    "## Exemple de prediction sur un texte"
   ]
  },
  {
   "cell_type": "code",
   "execution_count": 39,
   "id": "ba2a1704",
   "metadata": {},
   "outputs": [],
   "source": [
    "ex = \"best allow plugins application starting application time around want create something people extend using plugin interface how writing hook code plugins attach specific event\""
   ]
  },
  {
   "cell_type": "code",
   "execution_count": 40,
   "id": "7ac49103",
   "metadata": {},
   "outputs": [
    {
     "data": {
      "text/plain": [
       "array([[0, 0, 0, 0, 0, 0, 1, 0, 0, 0]])"
      ]
     },
     "execution_count": 40,
     "metadata": {},
     "output_type": "execute_result"
    }
   ],
   "source": [
    "model_sgd.predict([ex])"
   ]
  },
  {
   "cell_type": "code",
   "execution_count": 41,
   "id": "f19d1eee",
   "metadata": {},
   "outputs": [
    {
     "data": {
      "text/plain": [
       "[('php',)]"
      ]
     },
     "execution_count": 41,
     "metadata": {},
     "output_type": "execute_result"
    }
   ],
   "source": [
    "multilabel_binarizer.inverse_transform(model_sgd.predict([ex]))"
   ]
  },
  {
   "cell_type": "markdown",
   "id": "6b826ad0",
   "metadata": {},
   "source": [
    "# Sauvegarde du modèle"
   ]
  },
  {
   "cell_type": "code",
   "execution_count": 24,
   "id": "303f0fe2",
   "metadata": {},
   "outputs": [],
   "source": [
    "import pickle as pkl"
   ]
  },
  {
   "cell_type": "code",
   "execution_count": 43,
   "id": "a217e914",
   "metadata": {},
   "outputs": [],
   "source": [
    "# saving the model \n",
    "pipline_file = open(\"TagsPredict.pkl\", \"wb\") \n",
    "joblib.dump(model_sgd, pipline_file) \n",
    "pipline_file.close()"
   ]
  },
  {
   "cell_type": "markdown",
   "id": "7b70582e",
   "metadata": {},
   "source": [
    "## Lien vers l'application"
   ]
  },
  {
   "cell_type": "markdown",
   "id": "0b00d006",
   "metadata": {},
   "source": [
    "https://tagsprediction-bhnyhaye963vexcgjrbakj.streamlit.app/"
   ]
  },
  {
   "cell_type": "code",
   "execution_count": null,
   "id": "2cd0e05a",
   "metadata": {},
   "outputs": [],
   "source": []
  }
 ],
 "metadata": {
  "kernelspec": {
   "display_name": "Python 3 (ipykernel)",
   "language": "python",
   "name": "python3"
  },
  "language_info": {
   "codemirror_mode": {
    "name": "ipython",
    "version": 3
   },
   "file_extension": ".py",
   "mimetype": "text/x-python",
   "name": "python",
   "nbconvert_exporter": "python",
   "pygments_lexer": "ipython3",
   "version": "3.9.12"
  }
 },
 "nbformat": 4,
 "nbformat_minor": 5
}
